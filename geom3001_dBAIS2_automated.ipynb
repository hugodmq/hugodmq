{
 "cells": [
  {
   "cell_type": "code",
   "execution_count": null,
   "id": "542692d6-7b27-4076-9786-30db42c87b3c",
   "metadata": {
    "tags": []
   },
   "outputs": [],
   "source": [
    "import datacube\n",
    "from datacube.utils import cog\n",
    "from datetime import datetime\n",
    "from datetime import timedelta\n",
    "import pandas as pd\n",
    "import xarray as xr\n",
    "import numpy as np\n",
    "import matplotlib.pyplot as plt\n",
    "from datacube.utils.masking import make_mask\n",
    "from datacube.utils.masking import mask_invalid_data\n",
    "from odc.algo import mask_cleanup\n",
    "import sys\n",
    "sys.path.insert(1, '../Tools/')\n",
    "from dea_tools.datahandling import load_ard\n",
    "from dea_tools.plotting import rgb, display_map\n",
    "from dea_tools.bandindices import calculate_indices\n",
    "from dea_tools.dask import create_local_dask_cluster\n",
    "from dea_tools.spatial import xr_vectorize\n",
    "import scipy.ndimage\n",
    "# Create local dask cluster to improve data load time\n",
    "client = create_local_dask_cluster(return_client=True)"
   ]
  },
  {
   "cell_type": "code",
   "execution_count": null,
   "id": "8fd98c87-4eac-4471-9904-54652c80b28a",
   "metadata": {
    "tags": []
   },
   "outputs": [],
   "source": [
    "dc = datacube.Datacube(app=\"bais2_mapping\")"
   ]
  },
  {
   "cell_type": "code",
   "execution_count": null,
   "id": "eb9598ac-d4f9-4f60-a199-55cf732532b4",
   "metadata": {
    "tags": []
   },
   "outputs": [],
   "source": [
    "# Define the area of interest\n",
    "latitude = (-28.1218076, -28.2168763)\n",
    "longitude = (153.1025233, 153.2382923)\n",
    "\n",
    "# Set the range of dates for the complete sample\n",
    "time = ('2019-08-20', '2019-12-01')\n",
    "# Compute the bounding box for the study area\n",
    "study_area_lat = (-28.1218076, -28.2168763)\n",
    "study_area_lon = (153.1025233, 153.2382923)\n",
    "\n",
    "display_map(x=study_area_lon, y=study_area_lat, margin=-0.2)"
   ]
  },
  {
   "cell_type": "code",
   "execution_count": null,
   "id": "a6b00cd1-9138-4a27-91e9-74cc7425f7c6",
   "metadata": {
    "tags": []
   },
   "outputs": [],
   "source": [
    "# Fire event date\n",
    "fire_date = '2019-09-06'\n",
    "\n",
    "# Length of baseline period\n",
    "fire_length = '3 months'"
   ]
  },
  {
   "cell_type": "code",
   "execution_count": null,
   "id": "bdcd4392-7391-41f8-80aa-415566c60880",
   "metadata": {
    "tags": []
   },
   "outputs": [],
   "source": [
    "# Define dates for loading data\n",
    "if fire_length == '12 months':\n",
    "    time_step = timedelta(days=365)\n",
    "if fire_length == '6 months':\n",
    "    time_step = timedelta(days=182.5)\n",
    "if fire_length == '3 months':\n",
    "    time_step = timedelta(days=91)\n",
    "\n",
    "# Calculate the start and end date for baseline data load\n",
    "start_date_pre = datetime.strftime(\n",
    "    ((datetime.strptime(fire_date, '%Y-%m-%d')) - time_step), '%Y-%m-%d')\n",
    "end_date_pre = datetime.strftime(\n",
    "    ((datetime.strptime(fire_date, '%Y-%m-%d')) - timedelta(days=1)),\n",
    "    '%Y-%m-%d')\n",
    "\n",
    "# Calculate end date for post fire data load\n",
    "start_date_post = datetime.strftime(\n",
    "    ((datetime.strptime(fire_date, '%Y-%m-%d')) + timedelta(days=15)),\n",
    "    '%Y-%m-%d')\n",
    "end_date_post = datetime.strftime(\n",
    "    ((datetime.strptime(fire_date, '%Y-%m-%d')) + timedelta(days=90)),\n",
    "    '%Y-%m-%d')\n",
    "\n",
    "\n",
    "# Print dates\n",
    "print(f'start_date_pre:  {start_date_pre}')\n",
    "print(f'end_date_pre:    {end_date_pre}')\n",
    "print(f'fire_date:       {fire_date}')\n",
    "print(f'start_date_post: {start_date_post}')\n",
    "print(f'end_date_post:   {end_date_post}')"
   ]
  },
  {
   "cell_type": "code",
   "execution_count": null,
   "id": "58584e4d-dfdb-4707-a398-87c78d829d31",
   "metadata": {},
   "outputs": [],
   "source": [
    "# Band List\n",
    "#dc_measurements = dc.list_measurements()\n",
    "#dc_measurements.loc[['ga_s2am_ard_3']]"
   ]
  },
  {
   "cell_type": "code",
   "execution_count": null,
   "id": "3f65dc2a-b6f3-4123-b6a0-c072319c87c6",
   "metadata": {
    "tags": []
   },
   "outputs": [],
   "source": [
    "resolution = (-20, 20)\n",
    "measurements = ['nbart_red_edge_2', 'nbart_red_edge_3', 'nbart_nir_2', 'nbart_red', 'nbart_swir_3', 'nbart_nir_1', 'nbart_green', 'nbart_blue','fmask' ]\n",
    "min_gooddata = 0.8\n",
    "output_crs = 'EPSG:9473'"
   ]
  },
  {
   "cell_type": "code",
   "execution_count": null,
   "id": "19812cbf-37f9-466d-86e0-b9daa1864526",
   "metadata": {
    "tags": []
   },
   "outputs": [],
   "source": [
    "# Load all data in baseline period available from ARD data\n",
    "dsbaseline = load_ard(dc=dc,\n",
    "                        products=['ga_s2am_ard_3', 'ga_s2bm_ard_3'],\n",
    "                        x=study_area_lon,\n",
    "                        y=study_area_lat,\n",
    "                        time=(start_date_pre, end_date_pre),\n",
    "                        measurements=measurements,\n",
    "                        min_gooddata=min_gooddata,\n",
    "                        resampling={\n",
    "                         \"fmask\": \"nearest\",\n",
    "                          \"*\": \"bilinear\"},\n",
    "                        output_crs=output_crs,\n",
    "                        resolution=resolution,\n",
    "                        group_by='solar_day')\n"
   ]
  },
  {
   "cell_type": "code",
   "execution_count": null,
   "id": "1b48e764-8262-4964-9738-2904a23bcc24",
   "metadata": {
    "tags": []
   },
   "outputs": [],
   "source": [
    "#selecting best timestep\n",
    "rgb(dsbaseline,col=\"time\")"
   ]
  },
  {
   "cell_type": "code",
   "execution_count": null,
   "id": "90e89b82-b4d0-4fe1-aaa4-cf5b00e5b558",
   "metadata": {
    "tags": []
   },
   "outputs": [],
   "source": [
    "dsbaseline.fmask.attrs[\"flags_definition\"]"
   ]
  },
  {
   "cell_type": "code",
   "execution_count": null,
   "id": "d3f69f61-9197-48cf-9fd3-b60533920413",
   "metadata": {
    "tags": []
   },
   "outputs": [],
   "source": [
    "#dsbaseline.fmask.plot(col=\"time\", col_wrap=4)"
   ]
  },
  {
   "cell_type": "code",
   "execution_count": null,
   "id": "15635742-43d2-49f9-bda1-1531bb0cb097",
   "metadata": {
    "tags": []
   },
   "outputs": [],
   "source": [
    "# Create the mask based on \"valid\" pixels\n",
    "clear_mask = make_mask(dsbaseline.fmask, fmask=\"valid\")\n",
    "#clear_mask.plot(col=\"time\", col_wrap=4)"
   ]
  },
  {
   "cell_type": "code",
   "execution_count": null,
   "id": "71300139-d600-4b61-9fae-7a7643b63b7f",
   "metadata": {
    "tags": []
   },
   "outputs": [],
   "source": [
    "# Apply the mask\n",
    "baseclear = dsbaseline.where(clear_mask)\n",
    "#rgb(baseclear, col=\"time\")"
   ]
  },
  {
   "cell_type": "code",
   "execution_count": null,
   "id": "edcbfc29-628a-43e5-b71a-be2659ec1806",
   "metadata": {
    "tags": []
   },
   "outputs": [],
   "source": [
    "%matplotlib inline\n",
    "\n",
    "import datacube\n",
    "import geopandas as gpd\n",
    "import odc.geo.xr\n",
    "from odc.geo.geom import Geometry\n",
    "\n",
    "import sys\n",
    "\n",
    "sys.path.insert(1, \"../Tools/\")\n",
    "from dea_tools.plotting import rgb"
   ]
  },
  {
   "cell_type": "code",
   "execution_count": null,
   "id": "647cf1e9-52bc-49a3-8300-e5e0fb7dfe5a",
   "metadata": {
    "tags": []
   },
   "outputs": [],
   "source": [
    "polygon_to_drill = (\n",
    "    \"lamington_boundary.geojson\"\n",
    ")\n",
    "# Read vector file\n",
    "polygon_to_drill = gpd.read_file(polygon_to_drill)\n",
    "\n",
    "# Check that the polygon loaded as expected. We'll just print the first 3 rows to check\n",
    "#polygon_to_drill.head(3)\n",
    "# Select polygon\n",
    "shapely_geometry = polygon_to_drill.iloc[0].geometry\n",
    "\n",
    "# Convert to Geometry object with CRS information\n",
    "geom = Geometry(geom=shapely_geometry, crs=polygon_to_drill.crs)\n",
    "geom"
   ]
  },
  {
   "cell_type": "code",
   "execution_count": null,
   "id": "120f6c92-ab4e-40c2-85d3-37acc0015e9a",
   "metadata": {
    "tags": []
   },
   "outputs": [],
   "source": [
    "# Mask out all pixels outside of our polygon:\n",
    "base_fullymasked = baseclear.odc.mask(poly=geom)\n",
    "#rgb(base_fullymasked, col=\"time\")"
   ]
  },
  {
   "cell_type": "code",
   "execution_count": null,
   "id": "7c29865f-841e-4d67-9263-4c58e66e32d9",
   "metadata": {
    "tags": []
   },
   "outputs": [],
   "source": []
  },
  {
   "cell_type": "code",
   "execution_count": null,
   "id": "00fb4540-9056-4997-a75b-c867a2626d4a",
   "metadata": {
    "tags": []
   },
   "outputs": [],
   "source": [
    "# Set the timesteps to visualise\n",
    "best_timestep = 21\n",
    "\n",
    "# Generate RGB plot of best timestamp\n",
    "rgb(base_fullymasked, index=[best_timestep])"
   ]
  },
  {
   "cell_type": "code",
   "execution_count": null,
   "id": "0884ce72-41e2-4e0c-addb-3bb6d2727926",
   "metadata": {
    "tags": []
   },
   "outputs": [],
   "source": [
    "#defining bais2 calculation\n",
    "B06=base_fullymasked.nbart_red_edge_2/10000\n",
    "B07=base_fullymasked.nbart_red_edge_3/10000\n",
    "B8A=base_fullymasked.nbart_nir_2/10000\n",
    "B04=base_fullymasked.nbart_red/10000\n",
    "B12=base_fullymasked.nbart_swir_3/10000\n",
    "\n",
    "#applying the calculation to the bands in ds then adding it as a variable in that ds\n",
    "base_fullymasked['BAIS2'] = (1-((B06*B07*B8A)/B04)**0.5)*((B12-B8A)/((B12+B8A)**0.5)+1)"
   ]
  },
  {
   "cell_type": "code",
   "execution_count": null,
   "id": "9b5b7731-fcce-4dce-a90d-5586537bfd3a",
   "metadata": {
    "tags": []
   },
   "outputs": [],
   "source": [
    "#selecting the baseline timestep\n",
    "baseline_BAI = base_fullymasked.BAIS2.isel(time=21)\n",
    "# Select RGB baseline\n",
    "baseline_image = base_fullymasked.isel(time=21)"
   ]
  },
  {
   "cell_type": "code",
   "execution_count": null,
   "id": "7fa1b8ab-a896-4406-a4af-b7188c7581bf",
   "metadata": {
    "tags": []
   },
   "outputs": [],
   "source": [
    "#plotting histogram of baseline_BAI, used to set vmin and vmax\n",
    "plt.hist(baseline_BAI.data.flatten(),bins=np.arange(-1,1,0.1))"
   ]
  },
  {
   "cell_type": "code",
   "execution_count": null,
   "id": "4885585f-ba84-4d19-9e4e-ce8535b244a0",
   "metadata": {
    "tags": []
   },
   "outputs": [],
   "source": [
    "#Plotting the baseline comparison\n",
    "# Set up subplots for baseline\n",
    "f, axarr = plt.subplots(1, 2, figsize=(15, 7), squeeze=False)\n",
    "\n",
    "# Visualise post-fire image as a true colour image\n",
    "rgb(baseline_image, \n",
    "    bands=['nbart_red', 'nbart_green', 'nbart_blue'], \n",
    "    ax=axarr[0, 0])\n",
    "axarr[0, 0].set_title('Pre-fire RGB')\n",
    "axarr[0, 0].set_xlabel('X coordinate')\n",
    "axarr[0, 0].set_ylabel('Y coordinate')\n",
    "\n",
    "# Visualise post-fire image as BAI image\n",
    "baseline_BAI.plot(cmap='RdBu', vmin=-1, vmax=1, ax=axarr[0, 1])\n",
    "axarr[0, 1].set_title('Pre-fire BAIS2')\n",
    "axarr[0, 1].yaxis.set_visible(True)\n",
    "axarr[0, 1].set_xlabel('X coordinate');\n",
    "\n"
   ]
  },
  {
   "cell_type": "code",
   "execution_count": null,
   "id": "90539e86-3251-4cf4-8809-a7d22c2970ce",
   "metadata": {
    "tags": []
   },
   "outputs": [],
   "source": [
    "#Preparing the post-fire images\n",
    "#Load post-fire data from Sentinel-2A and 2B\n",
    "# Load all data in baseline period available from ARD data\n",
    "dspost = load_ard(dc=dc,\n",
    "                        products=['ga_s2am_ard_3', 'ga_s2bm_ard_3'],\n",
    "                        x=study_area_lon,\n",
    "                        y=study_area_lat,\n",
    "                        time=('2019-12-5', '2020-01-30'),\n",
    "                        measurements=measurements,\n",
    "                        min_gooddata=min_gooddata,\n",
    "                        resampling={\n",
    "                         \"fmask\": \"nearest\",\n",
    "                          \"*\": \"bilinear\"},\n",
    "                        output_crs=output_crs,\n",
    "                        resolution=resolution,\n",
    "                        group_by='solar_day')\n",
    "# Load all data in baseline period available from ARD data\n"
   ]
  },
  {
   "cell_type": "code",
   "execution_count": null,
   "id": "0208378f-83b5-4f62-8552-9798e74b3ce0",
   "metadata": {
    "tags": []
   },
   "outputs": [],
   "source": [
    "#selecting post fire image\n",
    "rgb(dspost,col=\"time\")"
   ]
  },
  {
   "cell_type": "code",
   "execution_count": null,
   "id": "a215a5a1-f452-44ea-a4b0-a9702d5c862b",
   "metadata": {
    "tags": []
   },
   "outputs": [],
   "source": [
    "dspost.fmask.attrs[\"flags_definition\"]"
   ]
  },
  {
   "cell_type": "code",
   "execution_count": null,
   "id": "8b28befa-6d98-4ff4-a8ac-52ecbfc2d481",
   "metadata": {
    "tags": []
   },
   "outputs": [],
   "source": [
    "clear_mask_post = make_mask(dspost.fmask, fmask=\"valid\")\n",
    "#clear_mask.plot(col=\"time\", col_wrap=4)"
   ]
  },
  {
   "cell_type": "code",
   "execution_count": null,
   "id": "29f7f80a-c68e-4628-a4c0-e5016d3184a0",
   "metadata": {
    "tags": []
   },
   "outputs": [],
   "source": [
    "postclear = dspost.where(clear_mask_post)"
   ]
  },
  {
   "cell_type": "code",
   "execution_count": null,
   "id": "a52e08c7-9355-4384-9e6d-55b76a537ed0",
   "metadata": {
    "tags": []
   },
   "outputs": [],
   "source": [
    "# Mask out all pixels outside of our polygon:\n",
    "post_fullymasked = postclear.odc.mask(poly=geom)\n",
    "#rgb(post_fullymasked, col=\"time\")"
   ]
  },
  {
   "cell_type": "code",
   "execution_count": null,
   "id": "cb0dc026-d145-4078-b517-592f0de8a38d",
   "metadata": {
    "tags": []
   },
   "outputs": [],
   "source": [
    "# Set the timesteps to visualise\n",
    "best_timestep1 = 7\n",
    "\n",
    "# Generate RGB plot of best timestamp\n",
    "rgb(post_fullymasked, index=[best_timestep1])"
   ]
  },
  {
   "cell_type": "code",
   "execution_count": null,
   "id": "14a8bb7d-dd78-4108-a730-eb22a70f769f",
   "metadata": {
    "tags": []
   },
   "outputs": [],
   "source": [
    "#defining bais2 calculation\n",
    "B06=post_fullymasked.nbart_red_edge_2/10000\n",
    "B07=post_fullymasked.nbart_red_edge_3/10000\n",
    "B8A=post_fullymasked.nbart_nir_2/10000\n",
    "B04=post_fullymasked.nbart_red/10000\n",
    "B12=post_fullymasked.nbart_swir_3/10000\n",
    "\n",
    "#applying the calculation to the bands in ds then adding it as a variable in that ds\n",
    "post_fullymasked['BAIS2'] = (1-((B06*B07*B8A)/B04)**0.5)*((B12-B8A)/((B12+B8A)**0.5)+1)"
   ]
  },
  {
   "cell_type": "code",
   "execution_count": null,
   "id": "01695e26-1c3e-476d-a427-defb3e9fe923",
   "metadata": {
    "tags": []
   },
   "outputs": [],
   "source": [
    "post_fullymasked"
   ]
  },
  {
   "cell_type": "code",
   "execution_count": null,
   "id": "103c59d1-f5e6-4543-965f-7a6960dd080a",
   "metadata": {
    "tags": []
   },
   "outputs": [],
   "source": [
    "#selecting the baseline timestep\n",
    "post_BAI = post_fullymasked.BAIS2.isel(time=best_timestep1)\n",
    "# Select RGB baseline\n",
    "post_image = post_fullymasked.isel(time=best_timestep1)"
   ]
  },
  {
   "cell_type": "code",
   "execution_count": null,
   "id": "633307a3-afc3-4d26-9fbe-006c07340368",
   "metadata": {
    "tags": []
   },
   "outputs": [],
   "source": [
    "#post_BAI.data.flatten()\n",
    "#plotting histogram of baseline_BAI, used to set vmin and vmax\n",
    "plt.hist(post_BAI.data.flatten(),bins=np.arange(-1,1.4,0.1))"
   ]
  },
  {
   "cell_type": "code",
   "execution_count": null,
   "id": "074b6e1c-82e9-4280-b4f1-0381e9374257",
   "metadata": {
    "tags": []
   },
   "outputs": [],
   "source": [
    "# Set up subplots\n",
    "f, axarr = plt.subplots(1, 2, figsize=(15, 7), squeeze=False)\n",
    "\n",
    "# Visualise post-fire image as a true colour image\n",
    "rgb(post_image, \n",
    "    bands=['nbart_red', 'nbart_green', 'nbart_blue'], \n",
    "    ax=axarr[0, 0])\n",
    "axarr[0, 0].set_title('Post-fire RGB')\n",
    "axarr[0, 0].set_xlabel('X coordinate')\n",
    "axarr[0, 0].set_ylabel('Y coordinate')\n",
    "\n",
    "# Visualise post-fire image as BAI image\n",
    "post_BAI.plot(cmap='RdBu', vmin=0.5, vmax=0.8, ax=axarr[0, 1])\n",
    "axarr[0, 1].set_title('Post-fire BAIS2')\n",
    "axarr[0, 1].yaxis.set_visible(True)\n",
    "axarr[0, 1].set_xlabel('X coordinate');\n"
   ]
  },
  {
   "cell_type": "code",
   "execution_count": null,
   "id": "a779347e-316b-498d-ab6d-25ef5cee33db",
   "metadata": {
    "tags": []
   },
   "outputs": [],
   "source": [
    "#creating delta of baseline and post images\n",
    "delta_BAI = post_BAI - baseline_BAI\n",
    "\n",
    "# Visualise dBAIS2 image\n",
    "delta_BAI.plot(cmap='RdBu_r', vmin=-0.3, vmax=0.6, figsize=(11, 9))\n",
    "plt.xlabel('X coordinate')\n",
    "plt.ylabel('Y coordinate');"
   ]
  },
  {
   "cell_type": "code",
   "execution_count": null,
   "id": "dfc1c8c5-5f1a-4633-8d73-2df2a5c03bf7",
   "metadata": {
    "tags": []
   },
   "outputs": [],
   "source": [
    "#plot histogram\n",
    "plt.hist(delta_BAI.data.flatten(),bins=np.arange(-0.75,0.6,0.1))\n"
   ]
  },
  {
   "cell_type": "code",
   "execution_count": null,
   "id": "35e360d2-f6c3-4c73-851e-b32a0e96504c",
   "metadata": {
    "tags": []
   },
   "outputs": [],
   "source": [
    "bam = delta_BAI\n",
    "# Create a figure to plot the chosen fire severity index\n",
    "f, axarr = plt.subplots(\n",
    "    1, 2, figsize=(15, 10), squeeze=False, gridspec_kw={\"width_ratios\": [1, 5]}\n",
    ")\n",
    "\n",
    "# Calculate and round the dBAI dataarray value range to set determine the plots colourmap range\n",
    "bam_BAI_min = round(float(bam.quantile(0.005)), 1)\n",
    "bam_BAI_max = round(float(bam.quantile(0.995)), 1)\n",
    "\n",
    "# PLot the dBAI dataarray on the second subplot of the above figure\n",
    "bam.plot(cmap=\"RdBu_r\", vmin=bam_BAI_min, vmax=bam_BAI_max, ax=axarr[(0, 1)])\n",
    "\n",
    "# Plot a histogram of dBAI values in the first figure subplot.\n",
    "# Calculate a colourmap from the dataarray plot by iterating through individual histogram patches\n",
    "cm = plt.colormaps.get_cmap(\"RdBu_r\")\n",
    "\n",
    "n, bins, patches = xr.plot.hist(\n",
    "    darray=bam,\n",
    "    bins=np.arange(bam_BAI_min, bam_BAI_max + 0.05, 0.05),\n",
    "    align=\"mid\",\n",
    "    orientation=\"horizontal\",\n",
    "    ec=\"black\",\n",
    "    yticks=(np.arange(bam_BAI_min - 0.05, bam_BAI_max + 0.05, step=0.05)),\n",
    "    ax=axarr[(0, 0)],\n",
    ")\n",
    "\n",
    "# Match the colour scale of the histogram to that used in the map plot.\n",
    "bin_centers = 0.5 * (bins[:-1] + bins[1:])\n",
    "col = bin_centers - min(bin_centers)\n",
    "col /= max(col)\n",
    "for c, p in zip(col, patches):\n",
    "    plt.setp(p, \"facecolor\", cm(c))\n",
    "\n",
    "# Set titles for each subplot\n",
    "axarr[0, 0].set_title('dBAIS2' + \" Histogram\")\n",
    "axarr[0, 1].set_xlabel('X Coordinate')\n",
    "axarr[0, 1].set_ylabel('Y Coordinate')\n",
    "axarr[0, 1].set_title(\n",
    "    'dBAIS2'\n",
    "    + \" measured between \"\n",
    "    + str(baseline_BAI.time.values)[:10]\n",
    "    + \" - \"\n",
    "    + str(post_BAI.time.values)[:10]\n",
    ")\n",
    "\n",
    "# Set the x-axis label and number of x-axis ticks for the histogram plot\n",
    "axarr[0, 0].set_xlabel('dBAIS2' + \" count\")\n",
    "axarr[0, 0].xaxis.set_major_locator(plt.MaxNLocator(3))"
   ]
  },
  {
   "cell_type": "code",
   "execution_count": null,
   "id": "aad88c84-e823-4881-bf5b-d081f813c944",
   "metadata": {
    "tags": []
   },
   "outputs": [],
   "source": [
    "#create pixel classes\n",
    "unburnt = delta_BAI < 0.2\n",
    "low = (delta_BAI > 0.2) & (delta_BAI < 0.3)\n",
    "moderate = (delta_BAI > 0.3) & (delta_BAI < 0.4)\n",
    "high = (delta_BAI > 0.4) & (delta_BAI < 0.45)\n",
    "extreme = delta_BAI > 0.45"
   ]
  },
  {
   "cell_type": "code",
   "execution_count": null,
   "id": "b37e510c-2706-4734-85e6-7d53da41ffb6",
   "metadata": {
    "tags": []
   },
   "outputs": [],
   "source": [
    "import xarray as xr\n",
    "\n",
    "# Assuming 'delta_BAI' is a NumPy array\n",
    "#delta_BAI = xr.DataArray(delta_BAI, dims=['636', '739'])  # Replace 'dim1', 'dim2' with actual dimension names"
   ]
  },
  {
   "cell_type": "code",
   "execution_count": null,
   "id": "5d7c5fa1-1627-42a1-9cca-5e34fae9a1ca",
   "metadata": {
    "tags": []
   },
   "outputs": [],
   "source": [
    "# Multiply by 1000 to match the classification ranges\n",
    "BAI_scaled = delta_BAI * 1000\n",
    "\n",
    "# Define the conditions and corresponding values using EU classes (https://forest-fire.emergency.copernicus.eu/about-effis/technical-background/fire-severity)\n",
    "conditions = [\n",
    "    (BAI_scaled < 200),\n",
    "    (BAI_scaled >= 200) & (BAI_scaled < 300),\n",
    "    (BAI_scaled >= 300) & (BAI_scaled < 400),\n",
    "    (BAI_scaled >= 400) & (BAI_scaled < 450),\n",
    "    (BAI_scaled >= 450)\n",
    "]\n",
    "\n",
    "values = [1, 2, 3, 4, 5]\n",
    "\n",
    "# Create a new DataArray with the classified values\n",
    "BAI_classified = xr.DataArray(\n",
    "    np.select(conditions, values),\n",
    "    coords=delta_BAI.coords,\n",
    "    dims=delta_BAI.dims,\n",
    "    name='BAI_Class'\n",
    ")\n",
    "\n",
    "# Add attributes for class descriptions\n",
    "BAI_classified.attrs['classes'] = {\n",
    "    1: 'Unburned or Regrowth',\n",
    "    2: 'Low severity',\n",
    "    3: 'Moderate low severity',\n",
    "    4: 'Moderate high severity',\n",
    "    5: 'High severity'\n",
    "}"
   ]
  },
  {
   "cell_type": "code",
   "execution_count": null,
   "id": "d35b8452-5368-43b2-961b-15939d8369f4",
   "metadata": {
    "tags": []
   },
   "outputs": [],
   "source": [
    "pip install matplotlib-scalebar"
   ]
  },
  {
   "cell_type": "code",
   "execution_count": null,
   "id": "f0a4b8f3-49c8-479a-901d-ce7e355738d1",
   "metadata": {
    "tags": []
   },
   "outputs": [],
   "source": [
    "import numpy as np\n",
    "import matplotlib.pyplot as plt\n",
    "from matplotlib.colors import ListedColormap, BoundaryNorm\n",
    "from matplotlib_scalebar.scalebar import ScaleBar\n",
    "\n",
    "# Assuming you have already created BAI_classified as in the previous example\n",
    "\n",
    "# Define colors for each class\n",
    "colors = ['olivedrab', 'yellow', 'orange', 'red', 'darkred']\n",
    "cmap = ListedColormap(colors)\n",
    "\n",
    "# Set up the colorbar ticks and boundaries\n",
    "bounds = np.arange(0.5, 6.5, 1)  # 0.5, 1.5, 2.5, 3.5, 4.5, 5.5\n",
    "norm = BoundaryNorm(bounds, cmap.N)\n",
    "\n",
    "# Create the plot\n",
    "fig, ax = plt.subplots(figsize=(12, 10))\n",
    "\n",
    "# Plot the data\n",
    "im = ax.imshow(BAI_classified, cmap=cmap, norm=norm)\n",
    "\n",
    "# Add colorbar\n",
    "cbar = fig.colorbar(im, ax=ax, orientation='vertical', pad=0.02)\n",
    "\n",
    "# Set colorbar ticks and labels\n",
    "cbar.set_ticks(np.arange(1, 6))\n",
    "cbar.set_ticklabels(['Unburned or Regrowth', 'Low severity', 'Moderate low severity', \n",
    "                     'Moderate high severity', 'High severity'])\n",
    "\n",
    "# Set title and labels\n",
    "ax.set_title('Burn Severity Map (dBAIS2)', fontsize=16)\n",
    "\n",
    "# Remove x and y ticks\n",
    "ax.set_xticks([])\n",
    "ax.set_yticks([])\n",
    "\n",
    "# Add a scale bar\n",
    "scalebar = ScaleBar(1, location='lower right')  # You can adjust the value to represent the map scale\n",
    "ax.add_artist(scalebar)\n",
    "\n",
    "# Add a north arrow\n",
    "# Define the position and size of the north arrow\n",
    "arrow_x = 0.9  # x position (in axis coordinates, from 0 to 1)\n",
    "arrow_y = 0.9  # y position (in axis coordinates, from 0 to 1)\n",
    "arrow_length = 0.1  # Length of the arrow in axis coordinates\n",
    "\n",
    "x, y, arrow_length = 0.05, 0.95, 0.07\n",
    "ax.annotate('N', xy=(x, y), xytext=(x, y-arrow_length),\n",
    "            arrowprops=dict(facecolor='black', width=5, headwidth=15),\n",
    "            ha='center', va='center', fontsize=20,\n",
    "            xycoords=ax.transAxes)\n",
    "\n",
    "plt.tight_layout()\n",
    "plt.show()"
   ]
  },
  {
   "cell_type": "code",
   "execution_count": null,
   "id": "cf267cd0-9ad5-479f-9d51-74677c760c4f",
   "metadata": {
    "tags": []
   },
   "outputs": [],
   "source": [
    "#masking the final burn scar\n",
    "\n",
    "# Set threshold\n",
    "threshold = 0.2\n",
    "\n",
    "\n",
    "# Apply threshold\n",
    "burnt = delta_BAI > threshold\n",
    "\n",
    "delta_BAI['burnt'] = delta_BAI < threshold\n",
    "#delta_BAIt = delta_BAI.burnt\n",
    "\n",
    "\n",
    "total_burn = delta_BAI.where(burnt==1)\n",
    "# Visualise dBAI image\n",
    "\n",
    "total_burn.plot(cmap='inferno', figsize=(11, 9), vmax=0.6, vmin=-0.2)\n",
    "plt.title('dBAIS2 Burn Area')\n",
    "plt.xlabel('X coordinate')\n",
    "plt.ylabel('Y coordinate');"
   ]
  },
  {
   "cell_type": "code",
   "execution_count": null,
   "id": "4c3f6da0-3349-495f-b990-d74e0af3c553",
   "metadata": {
    "tags": []
   },
   "outputs": [],
   "source": [
    "from scipy import ndimage\n",
    "from skimage import morphology\n",
    "\n",
    "sys.path.insert(1, \"../Tools/\")\n",
    "from dea_tools.bandindices import calculate_indices\n",
    "from dea_tools.datahandling import load_ard\n",
    "from dea_tools.plotting import display_map, rgb, plot_variable_images\n",
    "from dea_tools.spatial import xr_rasterize, xr_vectorize"
   ]
  },
  {
   "cell_type": "code",
   "execution_count": null,
   "id": "b277382c-dc10-468c-b246-f3d9835ea2af",
   "metadata": {},
   "outputs": [],
   "source": [
    "#salt/pepper clean?\n"
   ]
  },
  {
   "cell_type": "code",
   "execution_count": null,
   "id": "27682438-0d1c-48ff-b34e-f0bce1a5e2b1",
   "metadata": {},
   "outputs": [],
   "source": [
    "#Calculating Burnt Area"
   ]
  },
  {
   "cell_type": "code",
   "execution_count": null,
   "id": "5dc84200-70c7-40b1-8344-31d33c1a4260",
   "metadata": {},
   "outputs": [],
   "source": [
    "# Constants for calculating burnt area\n",
    "pixel_length = resolution[1]  # in metres\n",
    "m_per_km = 1000  # conversion from metres to kilometres\n",
    "\n",
    "# Area per pixel\n",
    "area_per_pixel = pixel_length ** 2 / m_per_km ** 2\n",
    "\n",
    "# Calculate areas\n",
    "unburnt_area = (delta_BAI <= threshold).sum() * area_per_pixel\n",
    "burnt_area = burnt.sum() * area_per_pixel\n",
    "not_nan_area = delta_BAI.notnull().sum() * area_per_pixel\n",
    "nan_area = delta_BAI.isnull().sum() * area_per_pixel\n",
    "total_area = unburnt_area + burnt_area + nan_area\n",
    "\n",
    "print(f'Unburnt area:            {unburnt_area.item():.2f} km^2')\n",
    "print(f'Burnt area:              {burnt_area.item():.2f} km^2')\n",
    "print(f'Nan area:                {nan_area.item():.2f} km^2')\n",
    "print(f'Total area (no nans):    {not_nan_area.item():.2f} km^2')\n",
    "print(f'Total area (with nans):  {total_area.item():.2f} km^2')"
   ]
  },
  {
   "cell_type": "code",
   "execution_count": null,
   "id": "c768fca7-2c2a-4014-b309-75628b39fb69",
   "metadata": {},
   "outputs": [],
   "source": [
    "#download as shapefile\n",
    "from dea_tools.spatial import xr_rasterize, xr_vectorize\n",
    "# Convert the burnt area from raster to vector format\n",
    "gdf = xr_vectorize(\n",
    "    da=total_burn, output_path= \"total_burnnn.shp\"\n",
    ")"
   ]
  },
  {
   "cell_type": "code",
   "execution_count": null,
   "id": "3083aed2-08e3-432b-976c-452ecb23e3e4",
   "metadata": {},
   "outputs": [],
   "source": [
    "#vectorise\n",
    "#polygons = xr_vectorize(total_burn)\n",
    "#polygons[\"area\"] = polygons.area\n",
    "#polygons[\"size\"] = np.where(polygons[\"area\"] < 50000, 1, 2)  # se"
   ]
  },
  {
   "cell_type": "code",
   "execution_count": null,
   "id": "bee5d85c-98f4-4219-ba57-90b6a2820292",
   "metadata": {
    "tags": []
   },
   "outputs": [],
   "source": [
    "#export burnt area map to test\n",
    "from datacube.utils.cog import write_cog\n",
    "# Write GeoTIFF\n",
    "write_cog(geo_im=delta_BAI,\n",
    "          fname='burnt_area_test.tif',\n",
    "          overwrite=True,\n",
    "          nodata=0.0)"
   ]
  },
  {
   "cell_type": "code",
   "execution_count": null,
   "id": "ed622370-edc9-4fce-9862-051c2b575577",
   "metadata": {},
   "outputs": [],
   "source": [
    "\n"
   ]
  },
  {
   "cell_type": "code",
   "execution_count": null,
   "id": "d9a6e49b-48b9-402d-84ba-f35a9e6d9c37",
   "metadata": {},
   "outputs": [],
   "source": []
  }
 ],
 "metadata": {
  "kernelspec": {
   "display_name": "Python 3 (ipykernel)",
   "language": "python",
   "name": "python3"
  },
  "language_info": {
   "codemirror_mode": {
    "name": "ipython",
    "version": 3
   },
   "file_extension": ".py",
   "mimetype": "text/x-python",
   "name": "python",
   "nbconvert_exporter": "python",
   "pygments_lexer": "ipython3",
   "version": "3.10.13"
  }
 },
 "nbformat": 4,
 "nbformat_minor": 5
}
